{
 "cells": [
  {
   "cell_type": "code",
   "execution_count": 1,
   "metadata": {},
   "outputs": [],
   "source": [
    "import pandas as pd\n",
    "import numpy as np\n",
    "import matplotlib.pyplot as plt\n",
    "\n",
    "from sklearn.impute import SimpleImputer\n",
    "from sklearn.experimental import enable_iterative_imputer\n",
    "from sklearn.impute import IterativeImputer\n",
    "from sklearn.linear_model import LassoCV\n",
    "from sklearn import preprocessing\n",
    "from sklearn.feature_selection import VarianceThreshold\n",
    "from sklearn.ensemble import RandomForestRegressor\n",
    "from sklearn.model_selection import GridSearchCV\n",
    "from xgboost import XGBRegressor"
   ]
  },
  {
   "cell_type": "code",
   "execution_count": 2,
   "metadata": {},
   "outputs": [],
   "source": [
    "x_train = pd.read_csv(\"X_train.csv\")\n",
    "x_train = x_train.drop(\"id\", 1)\n",
    "\n",
    "y_train = pd.read_csv(\"y_train.csv\")\n",
    "y_train = y_train.drop(\"id\", 1)\n",
    "\n",
    "x_test = pd.read_csv(\"X_test.csv\")\n",
    "y_test = x_test[\"id\"]\n",
    "x_test = x_test.drop(\"id\", 1)"
   ]
  },
  {
   "cell_type": "code",
   "execution_count": 3,
   "metadata": {},
   "outputs": [],
   "source": [
    "imp = SimpleImputer(missing_values = np.nan, strategy='median')\n",
    "x_train_imp = imp.fit_transform(x_train.values)\n",
    "x_test_imp = imp.fit_transform(x_test.values)"
   ]
  },
  {
   "cell_type": "code",
   "execution_count": 4,
   "metadata": {},
   "outputs": [],
   "source": [
    "#imp = IterativeImputer(missing_values = np.nan, max_iter = 5, initial_strategy = \"median\", verbose = 2)\n",
    "#x_train_imp = imp.fit_transform(x_train.values)\n",
    "#x_test_imp = imp.fit_transform(x_test.values)"
   ]
  },
  {
   "cell_type": "code",
   "execution_count": 5,
   "metadata": {},
   "outputs": [],
   "source": [
    "scaler1 = preprocessing.RobustScaler(quantile_range = (20.0, 80.0)).fit(x_train_imp)\n",
    "x_train_imp_scaled = scaler1.transform(x_train_imp)\n",
    "scaler2 = preprocessing.RobustScaler(quantile_range = (20.0, 80.0)).fit(x_test_imp)\n",
    "x_test_imp_scaled = scaler2.transform(x_test_imp)"
   ]
  },
  {
   "cell_type": "code",
   "execution_count": 6,
   "metadata": {},
   "outputs": [],
   "source": [
    "#reg = LassoCV(alphas = [0.001, 0.01, 0.1, 1, 10], fit_intercept = True, cv = 10, n_jobs = -1, max_iter = 15000, verbose = 2)\n",
    "#reg.fit(x_train_imp_scaled, np.ravel(y_train.values))"
   ]
  },
  {
   "cell_type": "code",
   "execution_count": 7,
   "metadata": {},
   "outputs": [],
   "source": [
    "#reg = LassoCV(alphas = [0.001, 0.01, 0.1, 1, 10], fit_intercept = True, cv = 10, n_jobs = -1, max_iter = 15000, verbose = 2)\n",
    "#reg.fit(x_trans, np.ravel(y_train.values))\n",
    "#reg.score(x_trans, y_train)"
   ]
  },
  {
   "cell_type": "code",
   "execution_count": 8,
   "metadata": {},
   "outputs": [],
   "source": [
    "parameters = {'n_estimators': [90,100,125], 'reg_alpha':[8,9,10], 'gamma':[5,10,15], 'min_child_weight':[0.1,0.5,1,5]}\n",
    "RFR = XGBRegressor(n_jobs = -1, verbose = 2, objective = 'reg:squarederror', max_depth = 3)"
   ]
  },
  {
   "cell_type": "code",
   "execution_count": 9,
   "metadata": {},
   "outputs": [
    {
     "name": "stdout",
     "output_type": "stream",
     "text": [
      "Fitting 5 folds for each of 108 candidates, totalling 540 fits\n"
     ]
    },
    {
     "name": "stderr",
     "output_type": "stream",
     "text": [
      "[Parallel(n_jobs=-1)]: Using backend LokyBackend with 8 concurrent workers.\n",
      "[Parallel(n_jobs=-1)]: Done  25 tasks      | elapsed:   55.2s\n",
      "[Parallel(n_jobs=-1)]: Done 146 tasks      | elapsed:  4.6min\n",
      "[Parallel(n_jobs=-1)]: Done 349 tasks      | elapsed: 10.6min\n",
      "[Parallel(n_jobs=-1)]: Done 540 out of 540 | elapsed: 15.8min finished\n"
     ]
    },
    {
     "data": {
      "text/plain": [
       "GridSearchCV(cv=5, error_score='raise-deprecating',\n",
       "             estimator=XGBRegressor(base_score=0.5, booster='gbtree',\n",
       "                                    colsample_bylevel=1, colsample_bynode=1,\n",
       "                                    colsample_bytree=1, gamma=0,\n",
       "                                    importance_type='gain', learning_rate=0.1,\n",
       "                                    max_delta_step=0, max_depth=3,\n",
       "                                    min_child_weight=1, missing=None,\n",
       "                                    n_estimators=100, n_jobs=-1, nthread=None,\n",
       "                                    objective='reg:squarederror',\n",
       "                                    random_state=0, reg_alpha=0, reg_lambda=1,\n",
       "                                    scale_pos_weight=1, seed=None, silent=None,\n",
       "                                    subsample=1, verbose=2, verbosity=1),\n",
       "             iid='warn', n_jobs=-1,\n",
       "             param_grid={'gamma': [5, 10, 15],\n",
       "                         'min_child_weight': [0.1, 0.5, 1, 5],\n",
       "                         'n_estimators': [90, 100, 125],\n",
       "                         'reg_alpha': [8, 9, 10]},\n",
       "             pre_dispatch='2*n_jobs', refit=True, return_train_score=False,\n",
       "             scoring=None, verbose=2)"
      ]
     },
     "execution_count": 9,
     "metadata": {},
     "output_type": "execute_result"
    }
   ],
   "source": [
    "clf = GridSearchCV(RFR, parameters, cv = 5, verbose = 2, n_jobs = -1)\n",
    "clf.fit(x_train_imp_scaled, np.ravel(y_train.values))"
   ]
  },
  {
   "cell_type": "code",
   "execution_count": 10,
   "metadata": {},
   "outputs": [
    {
     "name": "stdout",
     "output_type": "stream",
     "text": [
      "{'gamma': 15, 'min_child_weight': 0.1, 'n_estimators': 125, 'reg_alpha': 9}\n"
     ]
    }
   ],
   "source": [
    "print(clf.best_params_)"
   ]
  },
  {
   "cell_type": "code",
   "execution_count": 11,
   "metadata": {},
   "outputs": [
    {
     "data": {
      "text/plain": [
       "0.9117985320186613"
      ]
     },
     "execution_count": 11,
     "metadata": {},
     "output_type": "execute_result"
    }
   ],
   "source": [
    "clf.score(x_train_imp_scaled, np.ravel(y_train.values))\n",
    "#{'max_depth': 3, 'n_estimators': 75, 'reg_alpha': 10, 'subsample': 1, 'tree_method': 'approx'}"
   ]
  },
  {
   "cell_type": "code",
   "execution_count": 12,
   "metadata": {},
   "outputs": [],
   "source": [
    "y_test_pred = clf.predict(x_test_imp_scaled)"
   ]
  },
  {
   "cell_type": "code",
   "execution_count": 13,
   "metadata": {},
   "outputs": [],
   "source": [
    "#regr = RandomForestRegressor(max_depth = 10, random_state = 0, n_estimators = 1000, n_jobs = -1, max_features = None)\n",
    "#regr.fit(x_train_imp_scaled, np.ravel(y_train.values))\n",
    "#y_test_pred = regr.predict(x_test_imp_scaled)\n",
    "#regr.score(x_train_imp_scaled, np.ravel(y_train.values))"
   ]
  },
  {
   "cell_type": "code",
   "execution_count": 14,
   "metadata": {},
   "outputs": [],
   "source": [
    "#y_test_pred = reg.predict(x_test_imp_scaled)"
   ]
  },
  {
   "cell_type": "code",
   "execution_count": 15,
   "metadata": {},
   "outputs": [],
   "source": [
    "results = np.zeros((np.shape(y_test.values)[0], 2))"
   ]
  },
  {
   "cell_type": "code",
   "execution_count": 16,
   "metadata": {},
   "outputs": [],
   "source": [
    "for i in range(np.shape(results)[0]):\n",
    "    results[i,1]= y_test_pred[i]\n",
    "    results[i,0] = int(i)"
   ]
  },
  {
   "cell_type": "code",
   "execution_count": 17,
   "metadata": {},
   "outputs": [],
   "source": [
    "results = pd.DataFrame(results)\n",
    "results.columns = [\"id\", \"y\"]\n",
    "results.to_csv(\"results_raphael.csv\", index = False)"
   ]
  }
 ],
 "metadata": {
  "kernelspec": {
   "display_name": "Python 3",
   "language": "python",
   "name": "python3"
  },
  "language_info": {
   "codemirror_mode": {
    "name": "ipython",
    "version": 3
   },
   "file_extension": ".py",
   "mimetype": "text/x-python",
   "name": "python",
   "nbconvert_exporter": "python",
   "pygments_lexer": "ipython3",
   "version": "3.7.1"
  },
  "varInspector": {
   "cols": {
    "lenName": 16,
    "lenType": 16,
    "lenVar": 40
   },
   "kernels_config": {
    "python": {
     "delete_cmd_postfix": "",
     "delete_cmd_prefix": "del ",
     "library": "var_list.py",
     "varRefreshCmd": "print(var_dic_list())"
    },
    "r": {
     "delete_cmd_postfix": ") ",
     "delete_cmd_prefix": "rm(",
     "library": "var_list.r",
     "varRefreshCmd": "cat(var_dic_list()) "
    }
   },
   "types_to_exclude": [
    "module",
    "function",
    "builtin_function_or_method",
    "instance",
    "_Feature"
   ],
   "window_display": false
  }
 },
 "nbformat": 4,
 "nbformat_minor": 2
}
